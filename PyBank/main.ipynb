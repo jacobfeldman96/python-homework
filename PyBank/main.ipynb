{
 "metadata": {
  "language_info": {
   "codemirror_mode": {
    "name": "ipython",
    "version": 3
   },
   "file_extension": ".py",
   "mimetype": "text/x-python",
   "name": "python",
   "nbconvert_exporter": "python",
   "pygments_lexer": "ipython3",
   "version": "3.8.3-final"
  },
  "orig_nbformat": 2,
  "kernelspec": {
   "name": "python_defaultSpec_1600872018293",
   "display_name": "Python 3.8.3 64-bit ('base': conda)"
  }
 },
 "nbformat": 4,
 "nbformat_minor": 2,
 "cells": [
  {
   "cell_type": "code",
   "execution_count": 2,
   "metadata": {
    "tags": []
   },
   "outputs": [
    {
     "output_type": "stream",
     "name": "stdout",
     "text": "02-Homework_02-Python_PyBank_Resources_budget_data.csv\n"
    },
    {
     "output_type": "error",
     "ename": "FileNotFoundError",
     "evalue": "[Errno 2] No such file or directory: '02-Homework_02-Python_PyBank_Resources_budget_data.csv'",
     "traceback": [
      "\u001b[0;31m---------------------------------------------------------------------------\u001b[0m",
      "\u001b[0;31mFileNotFoundError\u001b[0m                         Traceback (most recent call last)",
      "\u001b[0;32m<ipython-input-2-eeebbb8f3563>\u001b[0m in \u001b[0;36m<module>\u001b[0;34m\u001b[0m\n\u001b[1;32m      9\u001b[0m \u001b[0mpybank_greatest_increase_list\u001b[0m \u001b[0;34m=\u001b[0m \u001b[0;34m[\u001b[0m\u001b[0;34m]\u001b[0m\u001b[0;34m\u001b[0m\u001b[0;34m\u001b[0m\u001b[0m\n\u001b[1;32m     10\u001b[0m \u001b[0;34m\u001b[0m\u001b[0m\n\u001b[0;32m---> 11\u001b[0;31m \u001b[0;32mwith\u001b[0m \u001b[0mopen\u001b[0m\u001b[0;34m(\u001b[0m\u001b[0mcsvpath\u001b[0m\u001b[0;34m,\u001b[0m \u001b[0;34m'r'\u001b[0m\u001b[0;34m)\u001b[0m \u001b[0;32mas\u001b[0m \u001b[0mcvsfile\u001b[0m\u001b[0;34m:\u001b[0m\u001b[0;34m\u001b[0m\u001b[0;34m\u001b[0m\u001b[0m\n\u001b[0m\u001b[1;32m     12\u001b[0m     \u001b[0mcsvreader\u001b[0m \u001b[0;34m=\u001b[0m \u001b[0mcsv\u001b[0m\u001b[0;34m.\u001b[0m\u001b[0mreader\u001b[0m\u001b[0;34m(\u001b[0m\u001b[0mcvsfile\u001b[0m\u001b[0;34m,\u001b[0m \u001b[0mdelimiter\u001b[0m\u001b[0;34m=\u001b[0m \u001b[0;34m','\u001b[0m\u001b[0;34m)\u001b[0m\u001b[0;34m\u001b[0m\u001b[0;34m\u001b[0m\u001b[0m\n\u001b[1;32m     13\u001b[0m     \u001b[0mheader\u001b[0m \u001b[0;34m=\u001b[0m \u001b[0mnext\u001b[0m\u001b[0;34m(\u001b[0m\u001b[0mcsvreader\u001b[0m\u001b[0;34m)\u001b[0m\u001b[0;34m\u001b[0m\u001b[0;34m\u001b[0m\u001b[0m\n",
      "\u001b[0;31mFileNotFoundError\u001b[0m: [Errno 2] No such file or directory: '02-Homework_02-Python_PyBank_Resources_budget_data.csv'"
     ]
    }
   ],
   "source": [
    "from pathlib import Path\n",
    "import csv\n",
    "\n",
    "csvpath = Path('02-Homework_02-Python_PyBank_Resources_budget_data.csv')\n",
    "print(csvpath)\n",
    "pybank_new_list = []\n",
    "pybank_financial_list = []\n",
    "pybank_change_list = []\n",
    "pybank_greatest_increase_list = []\n",
    "\n",
    "with open(csvpath, 'r') as cvsfile: \n",
    "    csvreader = csv.reader(cvsfile, delimiter= ',')\n",
    "    header = next(csvreader)\n",
    "    print(header)   \n",
    "    \n",
    "    previous = next(csvreader)\n",
    "    previous_revenue = int(previous[1])\n",
    "    pybank_financial_list.append(previous_revenue)\n",
    "    pybank_new_list.append(previous)\n",
    "    for row in csvreader:\n",
    "#         print(row)\n",
    "        pybank_new_list.append(row)\n",
    "        pybank_financial_list.append(int(row[1]))\n",
    "        current_revenue = int(row[1])\n",
    "        pybank_change = current_revenue - previous_revenue\n",
    "        pybank_change_list.append(pybank_change)\n",
    "        previous_revenue = current_revenue\n",
    "\n",
    "pybank_net_profit_losses = sum(pybank_financial_list) \n",
    "pybank_avg_change = sum(pybank_change_list)/len(pybank_change_list)\n",
    "month_greatest_increase = \"\"\n",
    "        \n",
    "print(pybank_new_list)\n",
    "print(pybank_change_list)\n",
    "\n",
    "for number in pybank_change_list:\n",
    "    if number == max(pybank_change_list):\n",
    "        print(number)\n",
    "        \n",
    "index = 0\n",
    "for number in pybank_change_list:\n",
    "    if number == 1926159:\n",
    "        print(index)\n",
    "    index += 1\n",
    "    \n",
    "for number in pybank_change_list:\n",
    "    if number == min(pybank_change_list):\n",
    "        print(number)\n",
    "        \n",
    "index = 0\n",
    "for number in pybank_change_list:\n",
    "    if number == -2196167:\n",
    "        print(index)\n",
    "    index += 1\n",
    "\n",
    "row_count = len(pybank_new_list)\n",
    "\n",
    "print(\"Financial Analysis\")\n",
    "print(\"------------------\")\n",
    "print(F\"Total months are {row_count}\")\n",
    "print(f\"Total Net Profit Losses are ${pybank_net_profit_losses}.\")\n",
    "print(f\"Average change of Profit/Losses for the entire period is ${round(pybank_avg_change, 2)}.\")\n",
    "# No further action is required \n",
    "print(f\"The greatest increase in profits was ${max(pybank_change_list)} and happened in {pybank_new_list[25][0]}.\")\n",
    "# \n",
    "print(f\"The greatest decrease in profits was ${min(pybank_change_list)} and it happened in {pybank_new_list[44][0]}.\")"
   ]
  },
  {
   "cell_type": "code",
   "execution_count": null,
   "metadata": {},
   "outputs": [],
   "source": []
  }
 ]
}